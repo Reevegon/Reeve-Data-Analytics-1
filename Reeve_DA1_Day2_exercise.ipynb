{
  "nbformat": 4,
  "nbformat_minor": 0,
  "metadata": {
    "colab": {
      "provenance": []
    },
    "kernelspec": {
      "name": "python3",
      "display_name": "Python 3"
    },
    "language_info": {
      "name": "python"
    }
  },
  "cells": [
    {
      "cell_type": "markdown",
      "source": [
        "Exercises\n",
        "Real-World Data Analysis:\n",
        "\n",
        " • Read data from a CSV dataset (use a real-world benchmark\n",
        "dataset).\n",
        "\n",
        " • Perform descriptive statistical analysis on the dataset, including\n",
        "measures of central tendency and dispersion.\n",
        "\n",
        " • Plot meaningful and significant visualizations to illustrate key\n",
        "insights from the data."
      ],
      "metadata": {
        "id": "42xfRX5HElcb"
      }
    },
    {
      "cell_type": "code",
      "source": [
        "import numpy as np\n",
        "from scipy import stats\n",
        "import matplotlib.pyplot as plt\n",
        "import pandas as pd\n",
        "\n",
        "file_path = '/content/CrabAgePrediction.csv'\n",
        "data = pd.read_csv(file_path)"
      ],
      "metadata": {
        "id": "wAtkNU3AEuRm"
      },
      "execution_count": 40,
      "outputs": []
    },
    {
      "cell_type": "code",
      "source": [
        "crab_mean = data['Age'].mean()\n",
        "crab_median = data['Age'].median()\n",
        "crab_mode = stats.mode(data['Age'])"
      ],
      "metadata": {
        "id": "p942bm3ny0ic"
      },
      "execution_count": 41,
      "outputs": []
    },
    {
      "cell_type": "code",
      "source": [
        "crab_std_dev = np.std(data['Age'])\n",
        "crab_variance = np.var(data['Age'])\n",
        "range_value= max(data['Age']) - min(data['Age'])"
      ],
      "metadata": {
        "id": "_i4U6XMQy9ty"
      },
      "execution_count": 42,
      "outputs": []
    },
    {
      "cell_type": "code",
      "source": [
        "print(\"Mean Age of Crab:\", crab_mean)\n",
        "print(\"Median Age of Crab:\", crab_median)\n",
        "print(\"\\nMode: \",crab_mode)\n",
        "print(\"Standard Deviation: \",crab_std_dev)\n",
        "print(\"Variance:\" ,crab_variance)\n",
        "print(\"Range: \",range_value)"
      ],
      "metadata": {
        "colab": {
          "base_uri": "https://localhost:8080/"
        },
        "id": "e5sT7Bu7zDJS",
        "outputId": "3d9afcda-5463-4542-c552-76be33f53f9e"
      },
      "execution_count": 43,
      "outputs": [
        {
          "output_type": "stream",
          "name": "stdout",
          "text": [
            "Mean Age of Crab: 9.954790649884409\n",
            "Median Age of Crab: 10.0\n",
            "\n",
            "Mode:  ModeResult(mode=9, count=640)\n",
            "Standard Deviation:  3.2205528622188258\n",
            "Variance: 10.371960738345871\n",
            "Range:  28\n"
          ]
        }
      ]
    },
    {
      "cell_type": "code",
      "source": [
        "plt.figure(figsize=(16, 5))\n",
        "plt.subplot(1, 3, 1)\n",
        "plt.hist(data['Age'], bins=6, color='skyblue', edgecolor='black')\n",
        "plt.title(\"Histogram\")\n",
        "plt.xlabel(\"Age\")\n",
        "plt.ylabel(\"Frequency\")"
      ],
      "metadata": {
        "colab": {
          "base_uri": "https://localhost:8080/",
          "height": 504
        },
        "id": "UHLwSKYmzHas",
        "outputId": "00b080b2-06c5-44ac-a97f-85754d8d211d"
      },
      "execution_count": 44,
      "outputs": [
        {
          "output_type": "execute_result",
          "data": {
            "text/plain": [
              "Text(0, 0.5, 'Frequency')"
            ]
          },
          "metadata": {},
          "execution_count": 44
        },
        {
          "output_type": "display_data",
          "data": {
            "text/plain": [
              "<Figure size 1600x500 with 1 Axes>"
            ],
            "image/png": "[encoded data removed]"
          },
          "metadata": {}
        }
      ]
    },
    {
      "cell_type": "markdown",
      "source": [
        "Dataset link:- https://www.kaggle.com/datasets/sidhus/crab-age-prediction"
      ],
      "metadata": {
        "id": "VQQxxhj-bHt2"
      }
    },
    {
      "cell_type": "markdown",
      "source": [
        "First i loaded the dataset, added the CSV file into a table-like structure using Python’s pandas library.\n",
        "\n",
        "Descriptive Statistics ,(Measure of Central Tendency) the code calculates key numbers to summarize the ages of the crabs: Mean ,Median and Mode\n",
        "\n",
        "Then i did Dispersion: Standard Deviation, Variance and Range\n",
        "\n",
        "\n",
        "Then finally the Visualizing the Data using a Histogram\n",
        "A histogram is plotted to show how the ages are distributed. This is like a bar chart where:\n",
        "\n",
        "The X-axis represents crab ages.\n",
        "The Y-axis shows how many crabs fall into each age group(Frequency).\n",
        "The histogram helps us spot patterns, like whether most crabs are young or old, or if there’s a wide spread of ages."
      ],
      "metadata": {
        "id": "jf6iKdzIjAQU"
      }
    }
  ]
}
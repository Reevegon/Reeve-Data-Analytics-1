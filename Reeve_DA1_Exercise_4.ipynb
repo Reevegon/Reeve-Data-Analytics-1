{
  "nbformat": 4,
  "nbformat_minor": 0,
  "metadata": {
    "colab": {
      "provenance": []
    },
    "kernelspec": {
      "name": "python3",
      "display_name": "Python 3"
    },
    "language_info": {
      "name": "python"
    }
  },
  "cells": [
    {
      "cell_type": "code",
      "execution_count": 14,
      "metadata": {
        "id": "MUux1zsHH6wG"
      },
      "outputs": [],
      "source": [
        "# Load dataset\n",
        "import pandas as pd\n",
        "import numpy as np\n",
        "from sklearn.preprocessing import StandardScaler, MinMaxScaler\n",
        "from sklearn.feature_selection import mutual_info_classif, RFE\n",
        "from sklearn.ensemble import RandomForestClassifier\n",
        "from sklearn.linear_model import Lasso\n",
        "import matplotlib.pyplot as plt"
      ]
    },
    {
      "cell_type": "code",
      "source": [
        "# Load data\n",
        "data = pd.read_csv(\"heart.csv\")"
      ],
      "metadata": {
        "id": "COZfUQTlINii"
      },
      "execution_count": 15,
      "outputs": []
    },
    {
      "cell_type": "code",
      "source": [
        "# Step 1: Handling Missing Values\n",
        "# Check for missing values in the dataset\n",
        "print(\"Missing values before imputation:\\n\", data.isnull().sum())"
      ],
      "metadata": {
        "colab": {
          "base_uri": "https://localhost:8080/"
        },
        "id": "GwT8CUtbINgB",
        "outputId": "c364dfde-c505-462c-f64f-f1a47a7bcbe4"
      },
      "execution_count": 16,
      "outputs": [
        {
          "output_type": "stream",
          "name": "stdout",
          "text": [
            "Missing values before imputation:\n",
            " age         0\n",
            "sex         0\n",
            "cp          0\n",
            "trestbps    0\n",
            "chol        0\n",
            "fbs         0\n",
            "restecg     0\n",
            "thalach     0\n",
            "exang       0\n",
            "oldpeak     0\n",
            "slope       0\n",
            "ca          0\n",
            "thal        0\n",
            "target      0\n",
            "dtype: int64\n"
          ]
        }
      ]
    },
    {
      "cell_type": "code",
      "source": [
        "# Impute missing values (if any)\n",
        "for col in data.columns:\n",
        "    if data[col].dtype == 'object':  # For categorical data, use mode\n",
        "        data[col].fillna(data[col].mode()[0], inplace=True)\n",
        "    else:  # For numerical data, use mean\n",
        "        data[col].fillna(data[col].mean(), inplace=True)\n",
        "\n",
        "print(\"Missing values after imputation:\\n\", data.isnull().sum())"
      ],
      "metadata": {
        "colab": {
          "base_uri": "https://localhost:8080/"
        },
        "id": "XhDp9V3OINdh",
        "outputId": "e1deb70d-81ce-4039-db41-3e66e94b09a0"
      },
      "execution_count": 17,
      "outputs": [
        {
          "output_type": "stream",
          "name": "stdout",
          "text": [
            "Missing values after imputation:\n",
            " age         0\n",
            "sex         0\n",
            "cp          0\n",
            "trestbps    0\n",
            "chol        0\n",
            "fbs         0\n",
            "restecg     0\n",
            "thalach     0\n",
            "exang       0\n",
            "oldpeak     0\n",
            "slope       0\n",
            "ca          0\n",
            "thal        0\n",
            "target      0\n",
            "dtype: int64\n"
          ]
        },
        {
          "output_type": "stream",
          "name": "stderr",
          "text": [
            "<ipython-input-17-2774ba8c0b7e>:6: FutureWarning: A value is trying to be set on a copy of a DataFrame or Series through chained assignment using an inplace method.\n",
            "The behavior will change in pandas 3.0. This inplace method will never work because the intermediate object on which we are setting values always behaves as a copy.\n",
            "\n",
            "For example, when doing 'df[col].method(value, inplace=True)', try using 'df.method({col: value}, inplace=True)' or df[col] = df[col].method(value) instead, to perform the operation inplace on the original object.\n",
            "\n",
            "\n",
            "  data[col].fillna(data[col].mean(), inplace=True)\n"
          ]
        }
      ]
    },
    {
      "cell_type": "code",
      "source": [
        "# Step 2: Scaling Data\n",
        "numerical_features = ['age', 'trestbps', 'chol', 'thalach', 'oldpeak']\n",
        "scaler = StandardScaler()\n",
        "data[numerical_features] = scaler.fit_transform(data[numerical_features])\n",
        "\n",
        "print(\"\\nData after standardization (Z-score):\")\n",
        "print(data[numerical_features].head())\n",
        "\n",
        "minmax_scaler = MinMaxScaler()\n",
        "data[numerical_features] = minmax_scaler.fit_transform(data[numerical_features])\n",
        "\n",
        "print(\"\\nData after Min-Max Scaling:\")\n",
        "print(data[numerical_features].head())"
      ],
      "metadata": {
        "colab": {
          "base_uri": "https://localhost:8080/"
        },
        "id": "OPVauqs4INa2",
        "outputId": "6cec2e7d-faa7-4464-8f2c-fe33e7ea01a6"
      },
      "execution_count": 18,
      "outputs": [
        {
          "output_type": "stream",
          "name": "stdout",
          "text": [
            "\n",
            "Data after standardization (Z-score):\n",
            "        age  trestbps      chol   thalach   oldpeak\n",
            "0 -0.268437 -0.377636 -0.659332  0.821321 -0.060888\n",
            "1 -0.158157  0.479107 -0.833861  0.255968  1.727137\n",
            "2  1.716595  0.764688 -1.396233 -1.048692  1.301417\n",
            "3  0.724079  0.936037 -0.833861  0.516900 -0.912329\n",
            "4  0.834359  0.364875  0.930822 -1.874977  0.705408\n",
            "\n",
            "Data after Min-Max Scaling:\n",
            "        age  trestbps      chol   thalach   oldpeak\n",
            "0  0.479167  0.292453  0.196347  0.740458  0.161290\n",
            "1  0.500000  0.433962  0.175799  0.641221  0.500000\n",
            "2  0.854167  0.481132  0.109589  0.412214  0.419355\n",
            "3  0.666667  0.509434  0.175799  0.687023  0.000000\n",
            "4  0.687500  0.415094  0.383562  0.267176  0.306452\n"
          ]
        }
      ]
    },
    {
      "cell_type": "code",
      "source": [
        "# Step 3: Handling Outliers\n",
        "# Detect outliers in 'chol' using Z-score\n",
        "data['chol_zscore'] = (data['chol'] - data['chol'].mean()) / data['chol'].std()\n",
        "outliers = data[np.abs(data['chol_zscore']) > 3]\n",
        "\n",
        "print(\"\\nOutliers detected:\\n\", outliers)\n",
        "\n",
        "# Handle outliers by capping\n",
        "data['chol_capped'] = data['chol']\n",
        "data.loc[np.abs(data['chol_zscore']) > 3, 'chol_capped'] = data['chol'].mean()\n",
        "\n",
        "print(\"\\nOutliers handled:\")\n",
        "print(data[['chol', 'chol_zscore', 'chol_capped']].head())"
      ],
      "metadata": {
        "colab": {
          "base_uri": "https://localhost:8080/"
        },
        "id": "AmlqONYiINYZ",
        "outputId": "df220215-317c-4e53-c716-ae84d317b198"
      },
      "execution_count": 19,
      "outputs": [
        {
          "output_type": "stream",
          "name": "stdout",
          "text": [
            "\n",
            "Outliers detected:\n",
            "           age  sex  cp  trestbps      chol  fbs  restecg   thalach  exang  \\\n",
            "123  0.750000    0   2  0.433962  0.664384    1        0  0.656489      0   \n",
            "158  0.791667    0   2  0.198113  1.000000    0        0  0.679389      0   \n",
            "179  0.562500    0   0  0.377358  0.646119    0        0  0.603053      1   \n",
            "192  0.791667    0   2  0.198113  1.000000    0        0  0.679389      0   \n",
            "450  0.708333    0   0  0.528302  0.641553    0        0  0.633588      0   \n",
            "464  0.791667    0   2  0.198113  1.000000    0        0  0.679389      0   \n",
            "481  0.708333    0   0  0.528302  0.641553    0        0  0.633588      0   \n",
            "641  0.562500    0   0  0.377358  0.646119    0        0  0.603053      1   \n",
            "665  0.750000    0   2  0.433962  0.664384    1        0  0.656489      0   \n",
            "685  0.708333    0   0  0.528302  0.641553    0        0  0.633588      0   \n",
            "889  0.708333    0   0  0.528302  0.641553    0        0  0.633588      0   \n",
            "958  0.750000    0   2  0.433962  0.664384    1        0  0.656489      0   \n",
            "996  0.562500    0   0  0.377358  0.646119    0        0  0.603053      1   \n",
            "\n",
            "      oldpeak  slope  ca  thal  target  chol_zscore  \n",
            "123  0.129032      2   1     2       1     3.314435  \n",
            "158  0.258065      1   0     3       1     6.163685  \n",
            "179  0.306452      1   2     3       0     3.159373  \n",
            "192  0.258065      1   0     3       1     6.163685  \n",
            "450  0.645161      1   3     3       0     3.120608  \n",
            "464  0.258065      1   0     3       1     6.163685  \n",
            "481  0.645161      1   3     3       0     3.120608  \n",
            "641  0.306452      1   2     3       0     3.159373  \n",
            "665  0.129032      2   1     2       1     3.314435  \n",
            "685  0.645161      1   3     3       0     3.120608  \n",
            "889  0.645161      1   3     3       0     3.120608  \n",
            "958  0.129032      2   1     2       1     3.314435  \n",
            "996  0.306452      1   2     3       0     3.159373  \n",
            "\n",
            "Outliers handled:\n",
            "       chol  chol_zscore  chol_capped\n",
            "0  0.196347    -0.659010     0.196347\n",
            "1  0.175799    -0.833454     0.175799\n",
            "2  0.109589    -1.395551     0.109589\n",
            "3  0.175799    -0.833454     0.175799\n",
            "4  0.383562     0.930368     0.383562\n"
          ]
        }
      ]
    },
    {
      "cell_type": "code",
      "source": [
        "# Step 4: Feature Selection\n",
        "features = ['age', 'trestbps', 'chol_capped', 'thalach', 'oldpeak']\n",
        "target = data['target']"
      ],
      "metadata": {
        "id": "X9_m7JEfINTK"
      },
      "execution_count": 20,
      "outputs": []
    },
    {
      "cell_type": "code",
      "source": [
        "# Mutual Information\n",
        "mi = mutual_info_classif(data[features], target)\n",
        "print(\"\\nMutual Information:\\n\", pd.Series(mi, index=features))"
      ],
      "metadata": {
        "colab": {
          "base_uri": "https://localhost:8080/"
        },
        "id": "U0FAHE4jINQg",
        "outputId": "ad493559-61e5-4f51-f70b-543c1bdc8161"
      },
      "execution_count": 21,
      "outputs": [
        {
          "output_type": "stream",
          "name": "stdout",
          "text": [
            "\n",
            "Mutual Information:\n",
            " age            0.074045\n",
            "trestbps       0.068471\n",
            "chol_capped    0.264314\n",
            "thalach        0.164638\n",
            "oldpeak        0.144079\n",
            "dtype: float64\n"
          ]
        }
      ]
    },
    {
      "cell_type": "code",
      "source": [
        "# Backward RFE\n",
        "model = RandomForestClassifier(random_state=42)\n",
        "rfe = RFE(model, n_features_to_select=3)\n",
        "rfe.fit(data[features], target)\n",
        "print(\"\\nRFE Selected Features:\\n\", pd.Series(rfe.support_, index=features))"
      ],
      "metadata": {
        "colab": {
          "base_uri": "https://localhost:8080/"
        },
        "id": "cnG9Ku22INN8",
        "outputId": "5a23430e-fccc-4861-9e83-15e4af8cbd99"
      },
      "execution_count": 22,
      "outputs": [
        {
          "output_type": "stream",
          "name": "stdout",
          "text": [
            "\n",
            "RFE Selected Features:\n",
            " age             True\n",
            "trestbps       False\n",
            "chol_capped    False\n",
            "thalach         True\n",
            "oldpeak         True\n",
            "dtype: bool\n"
          ]
        }
      ]
    },
    {
      "cell_type": "code",
      "source": [
        "# Lasso Regression\n",
        "lasso = Lasso(alpha=0.1)\n",
        "lasso.fit(data[features], target)\n",
        "lasso_importance = np.abs(lasso.coef_)\n",
        "print(\"\\nLasso Feature Importance:\\n\", pd.Series(lasso_importance, index=features))"
      ],
      "metadata": {
        "colab": {
          "base_uri": "https://localhost:8080/"
        },
        "id": "cHEzyiuFINEb",
        "outputId": "ab2661d7-9fe5-4d0c-e372-e50660521100"
      },
      "execution_count": 23,
      "outputs": [
        {
          "output_type": "stream",
          "name": "stdout",
          "text": [
            "\n",
            "Lasso Feature Importance:\n",
            " age            0.0\n",
            "trestbps       0.0\n",
            "chol_capped    0.0\n",
            "thalach        0.0\n",
            "oldpeak        0.0\n",
            "dtype: float64\n"
          ]
        }
      ]
    },
    {
      "cell_type": "code",
      "source": [
        "# Comparison of feature selection methods\n",
        "comparison = pd.DataFrame({\n",
        "    'Feature': features,\n",
        "    'Mutual Information': mi,\n",
        "    'RFE Selected': rfe.support_,\n",
        "    'Lasso Importance': lasso_importance\n",
        "})\n",
        "\n",
        "print(\"\\nFeature Comparison:\\n\", comparison)"
      ],
      "metadata": {
        "colab": {
          "base_uri": "https://localhost:8080/"
        },
        "id": "GmEEXoRrIM8l",
        "outputId": "d573b2a6-8820-4d91-a6b9-d37bdaa9e8ee"
      },
      "execution_count": 24,
      "outputs": [
        {
          "output_type": "stream",
          "name": "stdout",
          "text": [
            "\n",
            "Feature Comparison:\n",
            "        Feature  Mutual Information  RFE Selected  Lasso Importance\n",
            "0          age            0.074045          True               0.0\n",
            "1     trestbps            0.068471         False               0.0\n",
            "2  chol_capped            0.264314         False               0.0\n",
            "3      thalach            0.164638          True               0.0\n",
            "4      oldpeak            0.144079          True               0.0\n"
          ]
        }
      ]
    },
    {
      "cell_type": "code",
      "source": [
        "# Plot feature importance\n",
        "comparison.set_index('Feature').plot(kind='bar', figsize=(12, 6), color=['black', 'yellow', 'red'])\n",
        "plt.title(\"Feature Importance Comparison\")\n",
        "plt.ylabel(\"Importance\")\n",
        "plt.show()"
      ],
      "metadata": {
        "colab": {
          "base_uri": "https://localhost:8080/",
          "height": 637
        },
        "id": "mouornuoIxXf",
        "outputId": "be58e049-a093-4322-afb2-6ba3a9c9b384"
      },
      "execution_count": 25,
      "outputs": [
        {
          "output_type": "display_data",
          "data": {
            "text/plain": [
              "<Figure size 1200x600 with 1 Axes>"
            ],
            "image/png": "[encoded data removed]"
          },
          "metadata": {}
        }
      ]
    }
  ]
}
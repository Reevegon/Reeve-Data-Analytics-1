{
  "nbformat": 4,
  "nbformat_minor": 0,
  "metadata": {
    "colab": {
      "provenance": []
    },
    "kernelspec": {
      "name": "python3",
      "display_name": "Python 3"
    },
    "language_info": {
      "name": "python"
    }
  },
  "cells": [
    {
      "cell_type": "code",
      "source": [
        "import numpy as np\n",
        "import pandas as pd\n",
        "from sklearn.model_selection import train_test_split\n",
        "from sklearn.tree import DecisionTreeClassifier\n",
        "from sklearn.ensemble import RandomForestClassifier, GradientBoostingClassifier\n",
        "from sklearn.neighbors import KNeighborsClassifier\n",
        "from sklearn.metrics import accuracy_score, precision_score, recall_score, f1_score\n",
        "import matplotlib.pyplot as plt"
      ],
      "metadata": {
        "id": "lbJj6dZdsRuA"
      },
      "execution_count": 43,
      "outputs": []
    },
    {
      "cell_type": "code",
      "source": [
        "# dataset used in previous group exercise is loaded\n",
        "dataset_path = '/content/f_dataset.csv'\n",
        "df = pd.read_csv(dataset_path)"
      ],
      "metadata": {
        "id": "xKNe-S7lsRqn"
      },
      "execution_count": 44,
      "outputs": []
    },
    {
      "cell_type": "code",
      "source": [
        "# printing the first 5 rows\n",
        "print(df.head())"
      ],
      "metadata": {
        "colab": {
          "base_uri": "https://localhost:8080/"
        },
        "id": "lhPYkyS2sRm4",
        "outputId": "b8402df5-4994-4425-9d4c-04050b92d759"
      },
      "execution_count": 45,
      "outputs": [
        {
          "output_type": "stream",
          "name": "stdout",
          "text": [
            "   feature_1  feature_2  feature_3  feature_4  feature_5  feature_6  \\\n",
            "0  37.454012  95.071431  73.199394  59.865848  15.601864  15.599452   \n",
            "1  60.754485  17.052412   6.505159  94.888554  96.563203  80.839735   \n",
            "2  38.867729  27.134903  82.873751  35.675333  28.093451  54.269608   \n",
            "3  11.959425  71.324479  76.078505  56.127720  77.096718  49.379560   \n",
            "4  80.744016  89.609130  31.800347  11.005192  22.793516  42.710779   \n",
            "\n",
            "   feature_7  feature_8  feature_9  feature_10  ...  feature_22  feature_23  \\\n",
            "0   5.808361  86.617615  60.111501   70.807258  ...   13.949386   29.214465   \n",
            "1  30.461377   9.767211  68.423303   44.015249  ...   77.513282   93.949894   \n",
            "2  14.092422  80.219698   7.455064   98.688694  ...   62.329813   33.089802   \n",
            "3  52.273283  42.754102   2.541913   10.789143  ...   16.122129   92.969765   \n",
            "4  81.801477  86.073058   0.695213   51.074730  ...   25.178230   49.724851   \n",
            "\n",
            "   feature_24  feature_25  feature_26  feature_27  feature_28  feature_29  \\\n",
            "0   36.636184   45.606998   78.517596   19.967378   51.423444   59.241457   \n",
            "1   89.482735   59.789998   92.187424    8.849250   19.598286    4.522729   \n",
            "2    6.355835   31.098232   32.518332   72.960618   63.755747   88.721274   \n",
            "3   80.812038   63.340376   87.146059   80.367208   18.657006   89.255900   \n",
            "4   30.087831   28.484049    3.688695   60.956433   50.267902    5.147875   \n",
            "\n",
            "   feature_30  critical_temp  \n",
            "0    4.645041       9.165924  \n",
            "1   32.533033       9.502136  \n",
            "2   47.221493       0.044101  \n",
            "3   53.934224       3.170750  \n",
            "4   27.864646       8.373780  \n",
            "\n",
            "[5 rows x 31 columns]\n"
          ]
        }
      ]
    },
    {
      "cell_type": "code",
      "source": [
        "# Checking for missing values and handleling them\n",
        "print(df.isnull().sum())"
      ],
      "metadata": {
        "colab": {
          "base_uri": "https://localhost:8080/"
        },
        "id": "IWkilWELsRjP",
        "outputId": "ac596666-e9b5-4dbe-a44a-4b4e8bf305d5"
      },
      "execution_count": 46,
      "outputs": [
        {
          "output_type": "stream",
          "name": "stdout",
          "text": [
            "feature_1        0\n",
            "feature_2        0\n",
            "feature_3        0\n",
            "feature_4        0\n",
            "feature_5        0\n",
            "feature_6        0\n",
            "feature_7        0\n",
            "feature_8        0\n",
            "feature_9        0\n",
            "feature_10       0\n",
            "feature_11       0\n",
            "feature_12       0\n",
            "feature_13       0\n",
            "feature_14       0\n",
            "feature_15       0\n",
            "feature_16       0\n",
            "feature_17       0\n",
            "feature_18       0\n",
            "feature_19       0\n",
            "feature_20       0\n",
            "feature_21       0\n",
            "feature_22       0\n",
            "feature_23       0\n",
            "feature_24       0\n",
            "feature_25       0\n",
            "feature_26       0\n",
            "feature_27       0\n",
            "feature_28       0\n",
            "feature_29       0\n",
            "feature_30       0\n",
            "critical_temp    0\n",
            "dtype: int64\n"
          ]
        }
      ]
    },
    {
      "cell_type": "code",
      "source": [
        "# Replace missing values using mean\n",
        "df.fillna(df.mean(), inplace=True)\n",
        "print(\"\\nMissing values after handling:\")\n",
        "print(df.isnull().sum())"
      ],
      "metadata": {
        "colab": {
          "base_uri": "https://localhost:8080/"
        },
        "id": "UQFEUSZ-sRfi",
        "outputId": "7ba20015-7692-494e-8456-3fc03d8899c8"
      },
      "execution_count": 47,
      "outputs": [
        {
          "output_type": "stream",
          "name": "stdout",
          "text": [
            "\n",
            "Missing values after handling:\n",
            "feature_1        0\n",
            "feature_2        0\n",
            "feature_3        0\n",
            "feature_4        0\n",
            "feature_5        0\n",
            "feature_6        0\n",
            "feature_7        0\n",
            "feature_8        0\n",
            "feature_9        0\n",
            "feature_10       0\n",
            "feature_11       0\n",
            "feature_12       0\n",
            "feature_13       0\n",
            "feature_14       0\n",
            "feature_15       0\n",
            "feature_16       0\n",
            "feature_17       0\n",
            "feature_18       0\n",
            "feature_19       0\n",
            "feature_20       0\n",
            "feature_21       0\n",
            "feature_22       0\n",
            "feature_23       0\n",
            "feature_24       0\n",
            "feature_25       0\n",
            "feature_26       0\n",
            "feature_27       0\n",
            "feature_28       0\n",
            "feature_29       0\n",
            "feature_30       0\n",
            "critical_temp    0\n",
            "dtype: int64\n"
          ]
        }
      ]
    },
    {
      "cell_type": "code",
      "source": [
        "# Splitting dataset into features and target\n",
        "X = df.iloc[:, :-1]\n",
        "y = df.iloc[:, -1]\n",
        "\n",
        "# Convert target variable to binary for classification\n",
        "y_binary = (y > np.median(y)).astype(int)"
      ],
      "metadata": {
        "id": "kZ7nd-G4sRYs"
      },
      "execution_count": 48,
      "outputs": []
    },
    {
      "cell_type": "code",
      "source": [
        "# Train-test split\n",
        "X_train, X_test, y_train, y_test = train_test_split(X, y_binary, test_size=0.25, random_state=123)"
      ],
      "metadata": {
        "id": "QNdayy01sRUu"
      },
      "execution_count": 49,
      "outputs": []
    },
    {
      "cell_type": "code",
      "source": [
        "# 1. Tree Models\n",
        "# a) Decision Tree Classifier\n",
        "dtree_model = DecisionTreeClassifier(random_state=123)\n",
        "dtree_model.fit(X_train, y_train)\n",
        "pred_dtree = dtree_model.predict(X_test)\n",
        "print(\"\\nDecision Tree Performance:\")\n",
        "print(f\"Accuracy: {accuracy_score(y_test, pred_dtree):.2f}\")\n",
        "print(f\"Precision: {precision_score(y_test, pred_dtree):.2f}\")\n",
        "print(f\"Recall: {recall_score(y_test, pred_dtree):.2f}\")\n",
        "print(f\"F1 Score: {f1_score(y_test, pred_dtree):.2f}\")\n",
        "\n",
        "# b) Random Forest Classifier\n",
        "rf_model = RandomForestClassifier(n_estimators=150, random_state=123)\n",
        "rf_model.fit(X_train, y_train)\n",
        "pred_rf = rf_model.predict(X_test)\n",
        "print(\"\\nRandom Forest Performance:\")\n",
        "print(f\"Accuracy: {accuracy_score(y_test, pred_rf):.2f}\")\n",
        "print(f\"Precision: {precision_score(y_test, pred_rf):.2f}\")\n",
        "print(f\"Recall: {recall_score(y_test, pred_rf):.2f}\")\n",
        "print(f\"F1 Score: {f1_score(y_test, pred_rf):.2f}\")\n",
        "\n",
        "# c) Gradient Boosting Classifier\n",
        "gb_model = GradientBoostingClassifier(n_estimators=150, random_state=123)\n",
        "gb_model.fit(X_train, y_train)\n",
        "pred_gb = gb_model.predict(X_test)\n",
        "print(\"\\nGradient Boosting Performance:\")\n",
        "print(f\"Accuracy: {accuracy_score(y_test, pred_gb):.2f}\")\n",
        "print(f\"Precision: {precision_score(y_test, pred_gb):.2f}\")\n",
        "print(f\"Recall: {recall_score(y_test, pred_gb):.2f}\")\n",
        "print(f\"F1 Score: {f1_score(y_test, pred_gb):.2f}\")"
      ],
      "metadata": {
        "colab": {
          "base_uri": "https://localhost:8080/"
        },
        "id": "6FwQ5KxysRRR",
        "outputId": "0c194267-a487-44a6-add8-34d282ba3f24"
      },
      "execution_count": 50,
      "outputs": [
        {
          "output_type": "stream",
          "name": "stdout",
          "text": [
            "\n",
            "Decision Tree Performance:\n",
            "Accuracy: 0.46\n",
            "Precision: 0.48\n",
            "Recall: 0.43\n",
            "F1 Score: 0.45\n",
            "\n",
            "Random Forest Performance:\n",
            "Accuracy: 0.47\n",
            "Precision: 0.48\n",
            "Recall: 0.39\n",
            "F1 Score: 0.43\n",
            "\n",
            "Gradient Boosting Performance:\n",
            "Accuracy: 0.49\n",
            "Precision: 0.51\n",
            "Recall: 0.41\n",
            "F1 Score: 0.46\n"
          ]
        }
      ]
    },
    {
      "cell_type": "code",
      "source": [
        "# 2) KNN Model\n",
        "neighbor_values = range(1, 21)\n",
        "performance_scores = []\n",
        "\n",
        "# Evaluate KNN for varying k\n",
        "for neighbors in neighbor_values:\n",
        "    knn_model = KNeighborsClassifier(n_neighbors=neighbors)\n",
        "    knn_model.fit(X_train, y_train)\n",
        "    score = accuracy_score(y_test, knn_model.predict(X_test))\n",
        "    performance_scores.append(score)\n",
        "\n",
        "# visualization\n",
        "plt.figure(figsize=(12, 6))\n",
        "plt.bar(neighbor_values, performance_scores, color='skyblue', edgecolor='black')\n",
        "plt.title('KNN Accuracy for Different Neighbor Counts', fontsize=16)\n",
        "plt.xlabel('Number of Neighbors (k)', fontsize=14)\n",
        "plt.ylabel('Accuracy', fontsize=14)\n",
        "plt.xticks(neighbor_values)\n",
        "plt.grid(axis='y', linestyle='--', alpha=0.7)\n",
        "plt.show()\n",
        "\n",
        "# Optimal k\n",
        "optimal_neighbors = neighbor_values[np.argmax(performance_scores)]\n",
        "print(f\"\\nOptimal number of neighbors for KNN: {optimal_neighbors}\")"
      ],
      "metadata": {
        "colab": {
          "base_uri": "https://localhost:8080/",
          "height": 606
        },
        "id": "kp64B_5XsROW",
        "outputId": "79efb34b-6af8-43f3-a216-482421521d0c"
      },
      "execution_count": 51,
      "outputs": [
        {
          "output_type": "display_data",
          "data": {
            "text/plain": [
              "<Figure size 1200x600 with 1 Axes>"
            ],
            "image/png": "[encoded data removed]"
          },
          "metadata": {}
        },
        {
          "output_type": "stream",
          "name": "stdout",
          "text": [
            "\n",
            "Optimal number of neighbors for KNN: 2\n"
          ]
        }
      ]
    },
    {
      "cell_type": "code",
      "source": [
        "# Train and evaluate KNN with optimal k\n",
        "best_knn_model = KNeighborsClassifier(n_neighbors=optimal_neighbors)\n",
        "best_knn_model.fit(X_train, y_train)\n",
        "optimal_knn_pred = best_knn_model.predict(X_test)\n",
        "\n",
        "print(\"\\nOptimal KNN Performance:\")\n",
        "print(f\"Accuracy: {accuracy_score(y_test, optimal_knn_pred):.2f}\")\n",
        "print(f\"Precision: {precision_score(y_test, optimal_knn_pred):.2f}\")\n",
        "print(f\"Recall: {recall_score(y_test, optimal_knn_pred):.2f}\")\n",
        "print(f\"F1 Score: {f1_score(y_test, optimal_knn_pred):.2f}\")"
      ],
      "metadata": {
        "colab": {
          "base_uri": "https://localhost:8080/"
        },
        "id": "Y2er2tLNt8Dx",
        "outputId": "058abb9d-4c38-4bbe-9082-a76044745b22"
      },
      "execution_count": 52,
      "outputs": [
        {
          "output_type": "stream",
          "name": "stdout",
          "text": [
            "\n",
            "Optimal KNN Performance:\n",
            "Accuracy: 0.51\n",
            "Precision: 0.57\n",
            "Recall: 0.23\n",
            "F1 Score: 0.33\n"
          ]
        }
      ]
    },
    {
      "cell_type": "code",
      "source": [
        "# end summary of exercise day 8\n",
        "print(\"\\n--- Model Summary ---\")\n",
        "print(\"Decision Tree Accuracy:\", accuracy_score(y_test, pred_dtree))\n",
        "print(\"Random Forest Accuracy:\", accuracy_score(y_test, pred_rf))\n",
        "print(\"Gradient Boosting Accuracy:\", accuracy_score(y_test, pred_gb))\n",
        "print(\"Optimal KNN Accuracy:\", accuracy_score(y_test, optimal_knn_pred))"
      ],
      "metadata": {
        "colab": {
          "base_uri": "https://localhost:8080/"
        },
        "id": "yHZzRSKqt8Aq",
        "outputId": "c8f787cd-d54b-451d-cf9d-49e819f0ecca"
      },
      "execution_count": 53,
      "outputs": [
        {
          "output_type": "stream",
          "name": "stdout",
          "text": [
            "\n",
            "--- Model Summary ---\n",
            "Decision Tree Accuracy: 0.4633333333333333\n",
            "Random Forest Accuracy: 0.4666666666666667\n",
            "Gradient Boosting Accuracy: 0.49\n",
            "Optimal KNN Accuracy: 0.5133333333333333\n"
          ]
        }
      ]
    }
  ]
}